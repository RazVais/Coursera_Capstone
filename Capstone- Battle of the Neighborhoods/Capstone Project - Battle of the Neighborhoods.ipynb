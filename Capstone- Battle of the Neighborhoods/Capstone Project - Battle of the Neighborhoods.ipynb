{
 "cells": [
  {
   "cell_type": "markdown",
   "metadata": {},
   "source": [
    "\n",
    "## Capstone Project - The Battle of Neighborhoods (Week 1)\n",
    "\n",
    "### description of the problem\n",
    "in a city like New York where congestion problems are a daily reality people are relying more and more on the public transportation option to travel in the city and get to a shopping center in the most convinent way. \n",
    "\n",
    "so in order to help the decision of in which borough to build a new shopping center, I will examine the MTA bus services in the city to see where are the locations of existing shopping centers and what are the relationships between them and the public transportation services. that will help me create clusters of similar areas. this will help me to give an answer to the question of where will the new shopping center be built.\n",
    "\n",
    "### description of the data and how it will be used to solve the problem\n",
    "\n",
    "The main data bases i will use are the GTFS of the bus services in the city of New York. a GTFS is The General Transit Feed Specification, defines a common format for public transportation schedules and associated geographic information.\n",
    "The foursquare data will provide the business side of the analisys. I also use OSM layers to see the borough borders.\n",
    "\n",
    "First spatial join of the boroughs and the venues that will help me map the diffrences and similarity between them. \n",
    "Then a cross check of the public transportation data and the venues+borough data will help me create clusters of similar areas.\n",
    "those areas will help me define different types and that i'll be able to get a good idea of the preferred place to build a new shopping center.  \n",
    "\n",
    "\n"
   ]
  },
  {
   "cell_type": "code",
   "execution_count": null,
   "metadata": {},
   "outputs": [],
   "source": []
  }
 ],
 "metadata": {
  "kernelspec": {
   "display_name": "Python 3",
   "language": "python",
   "name": "python3"
  },
  "language_info": {
   "codemirror_mode": {
    "name": "ipython",
    "version": 3
   },
   "file_extension": ".py",
   "mimetype": "text/x-python",
   "name": "python",
   "nbconvert_exporter": "python",
   "pygments_lexer": "ipython3",
   "version": "3.7.3"
  }
 },
 "nbformat": 4,
 "nbformat_minor": 2
}
